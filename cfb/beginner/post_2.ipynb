{
 "cells": [
  {
   "cell_type": "markdown",
   "id": "782d8fd3",
   "metadata": {},
   "source": [
    "# Recap \n",
    "\n",
    "In this part of the beginner series, we will build upon the code from <a href=\"https://www.fantasydatapros.com/cfb/blog/beginner/1\">the last post</a>, introducing more layers and moving parts. We will discuss the Python namespace and how Python keeps track of all the objects we have defined in our program. Additionally, we will learn a little bit about libraries and how we can use them to import code into our namespace (although we won't be importing anything just yet) and built-in objects (which we've actually already used). We will also cover user-defined functions and functions in general.\n",
    "\n",
    "# Built-in objects and the namespace\n",
    "\n",
    "Built-in functions are functions (we touched briefly on this last time) that exist naturally in the Python <i>namespace</i>. The <a target=\"_blank\" href=\"https://www.geeksforgeeks.org/namespaces-and-scope-in-python/\">namespace</a> sounds very arcane, but essentially it is a collection of already defined names for things that we can use in our code. \n",
    "\n",
    "<h1>Namespaces</h1>\n",
    "\n",
    "I asked chatGPT to explain the namespace, to which it replied:\n",
    "\n",
    "<i>Python namespace is a collection of objects (variable, function, class, etc.) that can be accessed by a unique name. It's basically a way for Python to keep track of all the different objects that you have defined in your program, and make sure that each object has a unique name. This helps to prevent confusion and name collisions between different objects in your program.</i>\n",
    "\n",
    "We can import things in to our namespace, as we'll see in later posts, to bring in more items (functions and classes) to write our code. Importing external code will be useful when we start using libraries like pandas, Python's data manipulation library. A library is a bunch of code already written for you so you don't have to reinvent the wheel. When you import those libraries into your code you are then able to use them once you get them into the namespace.\n",
    "\n",
    "But there are certain objects that already exist without any necessary importing. These are called \"built-in\" objects. \n",
    "\n",
    "One such built-in function here is the `print` function, which we used in the last post. "
   ]
  },
  {
   "cell_type": "code",
   "execution_count": 1,
   "id": "2c2050b6",
   "metadata": {},
   "outputs": [
    {
     "name": "stdout",
     "output_type": "stream",
     "text": [
      "Hello World!\n"
     ]
    }
   ],
   "source": [
    "print('Hello World!')"
   ]
  },
  {
   "cell_type": "markdown",
   "id": "89deead4",
   "metadata": {},
   "source": [
    "We touched only briefly on functions last time, but essentially in Python, functions are blocks of code that are defined once and can be used repeatedly throughout a program. Functions allow for efficient and organized code by breaking down tasks into smaller, reusable chunks. They can accept arguments <i>(inputs)</i> and return values <i>(outputs)</i>. Functions can also be used to create modules, which are collections of related functions that can be imported into other Python scripts (as discussed, we'll be exploring some of these modules/libraries in later posts like pandas). Functions are a key part of Python programming and are used to make code more modular, maintainable, and readable.\n",
    "\n",
    "\n",
    "<h1>User-defined Functions</h1>\n",
    "\n",
    "User defined functions in Python are functions that are created and defined by the user, rather than being pre-defined in the language itself. Using an example from college football, a user may define a function that calculates the yards per carry for a player in a given week. This function would take in parameters such as the player's name, their position, and the number of rushing yards and carries they had and would return the average yards per carry. This user defined function could then be called and used multiple times throughout the program to calculate average yards per carry for different players.\n",
    "\n",
    "To write a user-defined function in Python using a college football example, you could follow these steps:\n",
    "\n",
    "1. Define the function by using the keyword `def` followed by the function name and any parameters that will be passed to the function. For example, a function that calculates a player's average yards per carry might be defined like this:"
   ]
  },
  {
   "cell_type": "code",
   "execution_count": 2,
   "id": "91b8a58e",
   "metadata": {},
   "outputs": [
    {
     "ename": "IndentationError",
     "evalue": "expected an indented block (1143961586.py, line 1)",
     "output_type": "error",
     "traceback": [
      "\u001b[0;36m  Input \u001b[0;32mIn [2]\u001b[0;36m\u001b[0m\n\u001b[0;31m    def avg_yards_per_carry(yards, carries):\u001b[0m\n\u001b[0m                                            ^\u001b[0m\n\u001b[0;31mIndentationError\u001b[0m\u001b[0;31m:\u001b[0m expected an indented block\n"
     ]
    }
   ],
   "source": [
    "def avg_yards_per_carry(yards, carries):"
   ]
  },
  {
   "cell_type": "markdown",
   "id": "d0af43ff",
   "metadata": {},
   "source": [
    "2. Inside the function, write the code that will perform the desired calculation. In the example above, this would be the code that divides the player's total yards by their number of carries:"
   ]
  },
  {
   "cell_type": "code",
   "execution_count": 3,
   "id": "0eb0996b",
   "metadata": {},
   "outputs": [
    {
     "ename": "NameError",
     "evalue": "name 'yards' is not defined",
     "output_type": "error",
     "traceback": [
      "\u001b[0;31m---------------------------------------------------------------------------\u001b[0m",
      "\u001b[0;31mNameError\u001b[0m                                 Traceback (most recent call last)",
      "Input \u001b[0;32mIn [3]\u001b[0m, in \u001b[0;36m<cell line: 1>\u001b[0;34m()\u001b[0m\n\u001b[0;32m----> 1\u001b[0m avg \u001b[38;5;241m=\u001b[39m \u001b[43myards\u001b[49m \u001b[38;5;241m/\u001b[39m carries\n",
      "\u001b[0;31mNameError\u001b[0m: name 'yards' is not defined"
     ]
    }
   ],
   "source": [
    "avg = yards / carries"
   ]
  },
  {
   "cell_type": "markdown",
   "id": "a071dbc0",
   "metadata": {},
   "source": [
    "3. Return the result of the calculation by using the `return` keyword. In the example above, this would be the player's average yards per carry:"
   ]
  },
  {
   "cell_type": "code",
   "execution_count": 4,
   "id": "4d5ad9bf",
   "metadata": {},
   "outputs": [
    {
     "ename": "SyntaxError",
     "evalue": "'return' outside function (2172458130.py, line 1)",
     "output_type": "error",
     "traceback": [
      "\u001b[0;36m  Input \u001b[0;32mIn [4]\u001b[0;36m\u001b[0m\n\u001b[0;31m    return avg\u001b[0m\n\u001b[0m    ^\u001b[0m\n\u001b[0;31mSyntaxError\u001b[0m\u001b[0;31m:\u001b[0m 'return' outside function\n"
     ]
    }
   ],
   "source": [
    "return avg"
   ]
  },
  {
   "cell_type": "markdown",
   "id": "d658df84",
   "metadata": {},
   "source": [
    "4. Call the function in your code by using the function name followed by any necessary arguments. For example, to calculate the average yards per carry for a player who has rushed for 100 yards on 20 carries, you would write:"
   ]
  },
  {
   "cell_type": "code",
   "execution_count": 5,
   "id": "c33fa08d",
   "metadata": {},
   "outputs": [
    {
     "ename": "NameError",
     "evalue": "name 'avg_yards_per_carry' is not defined",
     "output_type": "error",
     "traceback": [
      "\u001b[0;31m---------------------------------------------------------------------------\u001b[0m",
      "\u001b[0;31mNameError\u001b[0m                                 Traceback (most recent call last)",
      "Input \u001b[0;32mIn [5]\u001b[0m, in \u001b[0;36m<cell line: 1>\u001b[0;34m()\u001b[0m\n\u001b[0;32m----> 1\u001b[0m avg_yards \u001b[38;5;241m=\u001b[39m \u001b[43mavg_yards_per_carry\u001b[49m(\u001b[38;5;241m100\u001b[39m, \u001b[38;5;241m20\u001b[39m)\n",
      "\u001b[0;31mNameError\u001b[0m: name 'avg_yards_per_carry' is not defined"
     ]
    }
   ],
   "source": [
    "avg_yards = avg_yards_per_carry(100, 20)"
   ]
  },
  {
   "cell_type": "markdown",
   "id": "c25ba6f5",
   "metadata": {},
   "source": [
    "5. Print the result of the function call to see the result of the calculation. In the example above, this would be the player's average yards per carry:"
   ]
  },
  {
   "cell_type": "code",
   "execution_count": 6,
   "id": "86f06e17",
   "metadata": {},
   "outputs": [
    {
     "ename": "NameError",
     "evalue": "name 'avg_yards' is not defined",
     "output_type": "error",
     "traceback": [
      "\u001b[0;31m---------------------------------------------------------------------------\u001b[0m",
      "\u001b[0;31mNameError\u001b[0m                                 Traceback (most recent call last)",
      "Input \u001b[0;32mIn [6]\u001b[0m, in \u001b[0;36m<cell line: 1>\u001b[0;34m()\u001b[0m\n\u001b[0;32m----> 1\u001b[0m \u001b[38;5;28mprint\u001b[39m(\u001b[43mavg_yards\u001b[49m)\n",
      "\u001b[0;31mNameError\u001b[0m: name 'avg_yards' is not defined"
     ]
    }
   ],
   "source": [
    "print(avg_yards)  # Output: 5.0"
   ]
  },
  {
   "cell_type": "markdown",
   "id": "18e65a43",
   "metadata": {},
   "source": [
    "Overall, a user-defined function in Python using a football example might look like this:"
   ]
  },
  {
   "cell_type": "code",
   "execution_count": 21,
   "id": "6b7281b9",
   "metadata": {},
   "outputs": [
    {
     "name": "stdout",
     "output_type": "stream",
     "text": [
      "5.0\n"
     ]
    }
   ],
   "source": [
    "def avg_yards_per_carry(yards, carries):\n",
    "    avg = yards / carries\n",
    "    return avg\n",
    "\n",
    "avg_yards = avg_yards_per_carry(100, 20)\n",
    "print(avg_yards) "
   ]
  },
  {
   "cell_type": "markdown",
   "id": "4be517fc",
   "metadata": {},
   "source": [
    "Now let's take all of this new information and use it to make our example from the last post even better. How can we modularize our code in a way that makes it better? The answer is that we can write a function that takes in a player's name, number of carries  and rushing yards and outputs a human-readable string that tells us that player's yards per carry for the season."
   ]
  },
  {
   "cell_type": "code",
   "execution_count": 18,
   "id": "1e8f5eb5",
   "metadata": {},
   "outputs": [
    {
     "name": "stdout",
     "output_type": "stream",
     "text": [
      "Bijan Robinson had a yards per carry of 6.12\n"
     ]
    }
   ],
   "source": [
    "def calculate_yards_per_carry(player_name, carries, rushing_yards):\n",
    "        yards_per_carry = rushing_yards/ carries\n",
    "        yards_per_carry_rounded = round(yards_per_carry, 2)\n",
    "        print(player_name, 'had a yards per carry of', yards_per_carry_rounded)\n",
    "        \n",
    "calculate_yards_per_carry('Bijan Robinson', carries=258, rushing_yards=1580)\n"
   ]
  },
  {
   "cell_type": "markdown",
   "id": "ceec54d6",
   "metadata": {},
   "source": [
    "This is our simple Python function that calculates the yards per carry of a player. The function takes in three arguments:\n",
    "<ul>\n",
    "<li>`player_name`, which is a string representing the name of the player;</li> \n",
    "<li>`carries`, which is an integer representing the number of carries the player had; and </li>\n",
    "<li>`rushing_yards`, which is an integer representing the number of yards a player had while running the ball.</li>\n",
    "</ul>\n",
    "The function first calculates the yards per carry by dividing the number of rushing yards by the number of carries. It then rounds the yards per carry to two decimal places and prints out a string that includes the player's name and their yards per carry.\n",
    "\n",
    "In the example provided, the function is called with the player name \"Bijan Robinson\", 258 carries, and 1580 rushing yards. This means that Bijan Robinson had a yards per carry of 6.124031007751938 ypc (ypc is a common abbreviation for the unit 'yards per carry'), which gets rounded to 6.12 and gets printed out as part of the string.\n",
    "\n",
    "<h1>Positional and Keyword Arguments</h1>\n",
    "\n",
    "Here you can also see that we explicitly defined arguments when passing them in. \"Bijan Robinson\" was a positional argument and carries and rushing yards were keyword arguments.\n",
    "\n",
    "In programming, a keyword argument is a type of argument that is passed to a function or method in which the name of the argument is specified in the function call. This allows for greater clarity and readability of the code, as the name of the argument clearly indicates its purpose.\n",
    "\n",
    "As an example, consider a function that calculates the average catches per game for a given college football player. This function might have a keyword argument called \"player_name\" that specifies the name of the player for whom the average catches per game should be calculated. The function could then be called like this:"
   ]
  },
  {
   "cell_type": "code",
   "execution_count": 19,
   "id": "665e148b",
   "metadata": {},
   "outputs": [
    {
     "ename": "NameError",
     "evalue": "name 'calculate_avg_catches_per_game' is not defined",
     "output_type": "error",
     "traceback": [
      "\u001b[0;31m---------------------------------------------------------------------------\u001b[0m",
      "\u001b[0;31mNameError\u001b[0m                                 Traceback (most recent call last)",
      "Input \u001b[0;32mIn [19]\u001b[0m, in \u001b[0;36m<cell line: 1>\u001b[0;34m()\u001b[0m\n\u001b[0;32m----> 1\u001b[0m \u001b[43mcalculate_avg_catches_per_game\u001b[49m(player_name\u001b[38;5;241m=\u001b[39m\u001b[38;5;124m\"\u001b[39m\u001b[38;5;124mJackson Smith-Njigba\u001b[39m\u001b[38;5;124m\"\u001b[39m)\n",
      "\u001b[0;31mNameError\u001b[0m: name 'calculate_avg_catches_per_game' is not defined"
     ]
    }
   ],
   "source": [
    "calculate_avg_catches_per_game(player_name=\"Jackson Smith-Njigba\")"
   ]
  },
  {
   "cell_type": "markdown",
   "id": "e9784ffe",
   "metadata": {},
   "source": [
    "In this example, the \"player_name\" keyword argument is used to specify the player for whom the average catches per game should be calculated. The use of a keyword argument makes the code more readable and easier to understand, as it is clear that the \"player_name\" argument is used to specify the player in question. Our example above is no different.\n",
    "\n",
    "Let's circle back to introducing this new idea of user-defined functions in to our code."
   ]
  },
  {
   "cell_type": "code",
   "execution_count": 20,
   "id": "fa48126d",
   "metadata": {},
   "outputs": [
    {
     "name": "stdout",
     "output_type": "stream",
     "text": [
      "Trey Benson had a yards per carry of 6.84\n",
      "Bijan Robinson had a yards per carry of 6.12\n",
      "Jahmyr Gibbs had a yards per carry of 6.25\n"
     ]
    }
   ],
   "source": [
    "players = [\n",
    "    {\n",
    "    \"name\": \"Trey Benson\",\n",
    "    \"team\": \"THE Florida State Seminoles\",\n",
    "    \"carries\": 141,\n",
    "    \"rushing_yards\": 965\n",
    "    },\n",
    "    {\n",
    "    \"name\": \"Bijan Robinson\",\n",
    "    \"team\": \"Texas Longhorns\",\n",
    "    \"carries\": 258,\n",
    "    \"rushing_yards\": 1580\n",
    "    },\n",
    "    {\n",
    "    \"name\": \"Jahmyr Gibbs\",\n",
    "    \"team\": \"Alabama Crimson Tide\",\n",
    "    \"carries\": 136, \n",
    "    \"rushing_yards\": 850\n",
    "    }\n",
    "]\n",
    "\n",
    "\n",
    "for player in players:\n",
    "    calculate_yards_per_carry(player['name'], carries=player['carries'], rushing_yards=player['rushing_yards'])"
   ]
  },
  {
   "cell_type": "markdown",
   "id": "563fd48f",
   "metadata": {},
   "source": [
    "As you can see here, we bring in our list of `dictionary` objects, each containing information about 3 college football RB's - Trey Benson, Bijan Robinson, and Jahmyr Gibbs.\n",
    "\n",
    "We then iterate through each of our player objects and pass in their data to the function, which provides the desired output! Compare this to our previous post and you could probably notice that the code is a lot cleaner now.\n",
    "\n",
    "<h1>Concluding Thoughts</h1>\n",
    "\n",
    "We covered a decent amount of theory in this post. To recap, we: \n",
    "<ul>\n",
    "<li>Expanded our knowledge of functions</li>\n",
    "<li>Acknowledged that some of these functions are built-in to the namespace</li>\n",
    "<li>Some of them can be imported via external libraries (which we will cover in the future), and</li> \n",
    "<li>Some of these can be written by us as user-defined functions</li>\n",
    "</ul>\n",
    "\n",
    "We also covered in-depth what functions are and some other details like positional and keyword arguments.\n",
    "\n",
    "Using all of this, we took our code from last time and made it slightly more <a href=\"https://stackoverflow.com/questions/25011078/what-does-pythonic-mean\" target=\"_blank\">Pythonic</a> (emphasis on slightly because at the moment, our code isn't all that more Pythonic yet, but we'll touch on this topic more in future posts. \"Pythonic\" code is essentially Python code that is written with good style/convention).\n",
    "\n",
    "No groundbreaking analysis yet, but we're one step closer to do some real analysis in Python! \n",
    "\n",
    "Thanks for reading - You guys are all awesome and happy coding!"
   ]
  },
  {
   "cell_type": "code",
   "execution_count": null,
   "id": "ed6c5534",
   "metadata": {},
   "outputs": [],
   "source": []
  }
 ],
 "metadata": {
  "kernelspec": {
   "display_name": "Python 3 (ipykernel)",
   "language": "python",
   "name": "python3"
  },
  "language_info": {
   "codemirror_mode": {
    "name": "ipython",
    "version": 3
   },
   "file_extension": ".py",
   "mimetype": "text/x-python",
   "name": "python",
   "nbconvert_exporter": "python",
   "pygments_lexer": "ipython3",
   "version": "3.9.12"
  },
  "vscode": {
   "interpreter": {
    "hash": "506a319ebebdb00029c604657cb2bbab64f5a438866e497f04618e385c1d8ae6"
   }
  }
 },
 "nbformat": 4,
 "nbformat_minor": 5
}
