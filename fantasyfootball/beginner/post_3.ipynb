{
 "cells": [
  {
   "cell_type": "markdown",
   "id": "782d8fd3",
   "metadata": {},
   "source": [
    "# Recap \n",
    "\n",
    "So far we have covered two-thirds of the absolute basic tools needed to program in python: data types and functions. Check out our last post <a href=\"https://www.fantasydatapros.com/fantasyfootball/blog/beginner/2\">here</a>. In this post, we take a look at conditionals. This will set us up with all of the basics needed to dive into some real, actionable, fantasy football analysis on our next post. \n",
    "\n",
    "# Conditionals\n",
    "Conditionals are a fundamental concept in programming that allow you to control the flow of your code. They allow you to make decisions based on certain conditions and to execute different lines of code depending on whether those conditions are met.\n",
    "\n",
    "\n",
    "<h2>If/Else Statements</h2>\n",
    "Basic conditonals make use of logical \"If/Else\" statements and are a powerful part of any programmers tool belt. An if/else block follows the basic format of \"if this statement here on this first line is true, then run the block of code in the indented lines below, if it's not true, then run the block of code in the indented block below else\".\n",
    "\n",
    "Let's take a look at an example and break it down: "
   ]
  },
  {
   "cell_type": "code",
   "execution_count": 16,
   "id": "dff176b0",
   "metadata": {},
   "outputs": [
    {
     "name": "stdout",
     "output_type": "stream",
     "text": [
      "Tyreek Hill is a top receiver.\n"
     ]
    }
   ],
   "source": [
    "name = \"Tyreek Hill\"\n",
    "receiving_yards = 1710\n",
    "\n",
    "if receiving_yards >= 1000:\n",
    "    print(f\"{name} is a top receiver.\")"
   ]
  },
  {
   "cell_type": "markdown",
   "id": "b707765d",
   "metadata": {},
   "source": [
    "Here is what is going on:  \n",
    "`if` tells the computer that whatever we write next will be a condition that needs to be met for the code underneath to run. Next, we establish that the receving yards variable is part of that condition by using the `>=` comparison operator. We will go into more detail on these later. This one stands for \"greater than or equal to\" and gives the computer the condition that receving_yards must be greater than or equal to 1,000. If that condition is met, the `:` colon symbol is used to represent the word \"then\" and the code beneath the if statement is run. So, in a sense we are \"teaching\" the computer with this if-statement that any player that has a 1,000 receivng yards or more in an NFL season can be considerer a top receiver. \n",
    "\n",
    "I threw in a bonus here and used an f-string in our print statement. F - strings allow us to incoroporate variables into strings in a more efficient way. I won't go into detail here, but more information on f-strings can be found <a href=\"https://docs.python.org/3/tutorial/inputoutput.html\">here</a>. \n",
    "\n",
    "What happens if the condition is not met? To explore this scenario, let's introduce a reciever that didn't quite meet expectations this year. "
   ]
  },
  {
   "cell_type": "code",
   "execution_count": 17,
   "id": "32c5808a",
   "metadata": {},
   "outputs": [
    {
     "name": "stdout",
     "output_type": "stream",
     "text": [
      "Kenny Golladay is not a top receiver.\n"
     ]
    }
   ],
   "source": [
    "name = \"Kenny Golladay\"\n",
    "receiving_yards = 81\n",
    "\n",
    "if receiving_yards >= 1000:\n",
    "    print(f\"{name} is a top receiver.\")\n",
    "else: \n",
    "    print(f\"{name} is not a top receiver.\")"
   ]
  },
  {
   "cell_type": "markdown",
   "id": "67c7c76b",
   "metadata": {},
   "source": [
    "Kenny Gollday's cap hit this year was 21.4 million dollars. With 81 receiving yards, that means the Giants paid roughly $264,197 per yard. Woof. \n",
    "\n",
    "Anyway, We added an `else` statement to our conditional that basically states that if the first condition is not met, then a different line of code needs to run. In this case, Kenny G did not have greater than or equal to 1,000 yards in 2022, so the second print function executes. \n",
    "\n",
    "Let's pull together a few other concepts and apply multiple conditionals to multiple players at the same time. To do this we will need to use our fancy new conditional statements, a function, a `for` loop,  and a `dict`. If you get confused here, refer back to our older posts! "
   ]
  },
  {
   "cell_type": "code",
   "execution_count": 2,
   "id": "a19a65cd",
   "metadata": {},
   "outputs": [
    {
     "name": "stdout",
     "output_type": "stream",
     "text": [
      "Tyreek Hill is a top receiver.\n",
      "Kenny Golladay is not a top receiver.\n",
      "George Pickens is an above average receiver.\n"
     ]
    }
   ],
   "source": [
    "\n",
    "players = [\n",
    "    {\n",
    "    \"name\": \"Tyreek Hill\",\n",
    "    \"receiving_yards\": 1710,\n",
    "    \"touchdowns\": 7\n",
    "    },\n",
    "    {\n",
    "    \"name\": \"Kenny Golladay\",\n",
    "    \"receiving_yards\": 81,\n",
    "    \"touchdowns\": 1\n",
    "    },\n",
    "    {\n",
    "    \"name\": \"George Pickens\",\n",
    "    \"receiving_yards\": 801,\n",
    "    \"touchdowns\": 4\n",
    "    }\n",
    "]\n",
    "\n",
    "def receiver_rater(name, receiving_yards, touchdowns):\n",
    "    if receiving_yards >= 1000 and touchdowns >= 7:\n",
    "        print(f\"{name} is a top receiver.\")\n",
    "    elif receiving_yards >= 800 or touchdowns > 4:\n",
    "        print(f\"{name} is an above average receiver.\")\n",
    "    else:\n",
    "        print(f\"{name} is not a top receiver.\")\n",
    "\n",
    "\n",
    "for player in players: \n",
    "    receiver_rater(name = player['name'],receiving_yards= player['receiving_yards'],touchdowns = player['touchdowns'])"
   ]
  },
  {
   "cell_type": "markdown",
   "id": "89deead4",
   "metadata": {},
   "source": [
    "To recap, we established a dictionary of three different receivers. The key : value pairs here represent the player names, their receivng yards, and touchdowns for the 2022 season. Next, created a function called receiver_rater that takes the name, receiving_yards, and touchdowns as arguments and printsthe appropriate statement based on our conditional statements. Finally, We use a `for` loop to iterate through our `dict` (for player in players) and apply the function to each player in teh dictionary. Let's take a closer look at the conditional statement within our function.\n",
    "\n",
    "<h2>Logical Operators</h2>\n",
    "In this conditional we introduce two new concepts. The first is logical opertors. These operators are used to combine multiple conditions in a single statement. The most commonly used logical operators are `and`, `or`, and `not`. In the first line of our conditional we use the `and` operator to combine the receiving yard and touchdown conditions. So, if a player has more than 1,000 receivng yards AND greater than or equal to 7 touchdowns, then that player is a top receiver and the print function below runs using that players name in the print statement. \n",
    "\n",
    "<h2>Elif</h2>\n",
    "The next part of our conditonal statement uses `elif` which stands for \"else if\" and is a way for us to add more conditions to our conditional statements. Basically, if the first condition is not met the statement following `elif` will be checked and if that is met, the code below is run. Our second condition is \"if receiving yards are greater than or equal to 800 OR touchdowns are greater than 4 then run the code below\". Here, the `or` logical operator is used and is less \"strict\" than the `and` operator. In this case, only one of the two conditions in our `elif` statement need to be met for the second print function to run. If we wanted to be more strict in our definition of an above average wide receiver we could certainly use an `and` operator here instead of the `or` operator. Note, you can use as many `elif` statements as you want to establish as many different conditions as you want. I challenge you to add another elif statement that defines the conditions that would consitute an \"average\" receiver. \n",
    "\n",
    "Finally, we again use our `else` statement to catch all other scenarios when the `if` and `elif` conditions are not met. For this simplified example, if you are not a top receiver or an above average receiver, then you are simply \"not a top receiver\". I'd feel bad for Kenny here but he made 21 million dollars to chill on the sidelines this year. So good for him, I guess."
   ]
  },
  {
   "cell_type": "markdown",
   "id": "aa273302",
   "metadata": {},
   "source": [
    "<h1>Comparison Operators</h1>\n",
    "Before we finish, I want to take the time to go through comparison operators in a little more depth.\n",
    "\n",
    "Comparison operators compare two values and return a Boolean value (either True or False) depending on the outcome of the comparison. For example, the `>` operator checks if the value on the left is greater than the value on the right, while the `<=` operator checks if the value on the left is less than or equal to the value on the right. Some common comparison operators include:\n",
    "\n",
    "<ul>\n",
    "<li>> (greater than)</li>\n",
    "<li>< (less than) </li>\n",
    "<li>>= (greater than or equal to)</li> \n",
    "<li>== (equal to)</li>\n",
    "<li><= (less than or equal to)</li>  \n",
    "<li> != (not equal to) </li>\n",
    "\n",
    "Note that the \"equal to\" operator consists of TWO equal signs. Rember the \"=\" symbol is used to assign a value to a variable. "
   ]
  },
  {
   "cell_type": "markdown",
   "id": "563fd48f",
   "metadata": {},
   "source": [
    "<h1>Concluding Thoughts</h1>\n",
    "\n",
    "In today's post we:\n",
    "<ul>\n",
    "<li>Learned the basic concepts of conditional statements in python</li>\n",
    "<li>Defined the meaning and purpose logical and comparison operators</li>\n",
    "<li>used if/elif/else statements to define top receivers in the league</li> \n",
    "</ul>\n",
    "\n",
    "Now that you understand data types, functions, and conditionals we can start analyzing the 2022 season for actionable takeaways. We will do our first \"real\" analysis in the next post. \n",
    "\n",
    "Thanks for reading - You guys are all awesome and happy coding!"
   ]
  }
 ],
 "metadata": {
  "kernelspec": {
   "display_name": "Python 3 (ipykernel)",
   "language": "python",
   "name": "python3"
  },
  "language_info": {
   "codemirror_mode": {
    "name": "ipython",
    "version": 3
   },
   "file_extension": ".py",
   "mimetype": "text/x-python",
   "name": "python",
   "nbconvert_exporter": "python",
   "pygments_lexer": "ipython3",
   "version": "3.8.2"
  },
  "vscode": {
   "interpreter": {
    "hash": "506a319ebebdb00029c604657cb2bbab64f5a438866e497f04618e385c1d8ae6"
   }
  }
 },
 "nbformat": 4,
 "nbformat_minor": 5
}
