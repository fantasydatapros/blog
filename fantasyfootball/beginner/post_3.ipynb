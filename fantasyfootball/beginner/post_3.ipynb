{
 "cells": [
  {
   "cell_type": "markdown",
   "id": "782d8fd3",
   "metadata": {},
   "source": [
    "# Recap \n",
    "\n",
    "So far we have covered two-thirds of the absolute basic tools needed to program in python: data types and functions. Check out our last post <a href=\"https://www.fantasydatapros.com/fantasyfootball/blog/beginner/2\">here</a>. In this post, we take a look at conditionals. This will set us up with all of the basics needed to dive into some real, actionable, fantasy football analysis on our next post. \n",
    "\n",
    "# Conditionals\n",
    "\n",
    "Conditionals are a fundamental concept in programming that allow you to control the flow of your code. They allow you to make decisions based on certain conditions and to execute different lines of code depending on whether those conditions are met. In this post, we are going to look at the following components of conditional statements: \n",
    "\n",
    "<ul>\n",
    "<li>If/Else Statements</li>\n",
    "<li>Comparison Operators</li> \n",
    "<li>Logical Operators</li>\n",
    "<li>Elif </li>\n",
    "</ul>\n",
    "\n",
    "<h2>If/Else Statements</h2>\n",
    "\n",
    "Basic conditonals make use of logical \"If/Else\" statements and are a powerful part of any programmers tool belt. An if/else block follows the basic format of \"if this statement here on this first line is true, then run the block of code in the indented lines below, if it's not true, then run the block of code in the indented block below else\". \n",
    "\n",
    "<h2>Comparison Operators</h2>\n",
    "\n",
    "Comparison operators compare two values and return a Boolean value (either True or False) depending on the outcome of the comparison. For example, the `>` operator checks if the value on the left is greater than the value on the right, while the `<=` operator checks if the value on the left is less than or equal to the value on the right. Some common comparison operators include:\n",
    "\n",
    "<ul>\n",
    "<li>> (greater than)</li>\n",
    "<li>< (less than) </li>\n",
    "<li>>= (greater than or equal to)</li> \n",
    "<li>== (equal to)</li>\n",
    "<li><= (less than or equal to)</li>  \n",
    "<li> != (not equal to) </li>\n",
    "</ul>\n",
    "\n",
    "Note that the \"equal to\" operator consists of TWO equal signs. Rember the \"=\" symbol is used to assign a value to a variable. \n",
    "\n",
    "Here is a simple example: "
   ]
  },
  {
   "cell_type": "code",
   "execution_count": 28,
   "id": "71761b4c",
   "metadata": {},
   "outputs": [
    {
     "name": "stdout",
     "output_type": "stream",
     "text": [
      "a is equal to b\n"
     ]
    }
   ],
   "source": [
    "a = 1 \n",
    "b = 1\n",
    "\n",
    "if a == b: \n",
    "    print(\"a is equal to b\")\n",
    "else: \n",
    "    print(\"a is not equal to b\")"
   ]
  },
  {
   "cell_type": "markdown",
   "id": "568c5f16",
   "metadata": {},
   "source": [
    "As you can see, `a` and `b` have the same value. Therefore, our conditional statement evaluates to `True` and prints the first line of code."
   ]
  },
  {
   "cell_type": "code",
   "execution_count": 34,
   "id": "9ec808c7",
   "metadata": {},
   "outputs": [
    {
     "name": "stdout",
     "output_type": "stream",
     "text": [
      "a is not equal to b\n"
     ]
    }
   ],
   "source": [
    "a = 1 \n",
    "b = 2\n",
    "\n",
    "if a == b: \n",
    "    print(\"a is equal to b\")\n",
    "else: \n",
    "    print(\"a is not equal to b\")"
   ]
  },
  {
   "cell_type": "markdown",
   "id": "0018c8f3",
   "metadata": {},
   "source": [
    "As you probably guessed, since `a` and `b` are not equal, the conditional statement evaluates to `False` and the line under our `else` statement runs. Next, let's move on to the next concept: Logical Operators. "
   ]
  },
  {
   "cell_type": "markdown",
   "id": "7c1d0b63",
   "metadata": {},
   "source": [
    "<h2>Logical Operators</h2>\n",
    "\n",
    "Logical operators are used to combine multiple conditions in a single statement. The most commonly used logical operators are `and`, `or`, and `not`. The `and` operator requires every part of the conditional statement to be true for the entire conditional statement to evaluate to `True`. The `or` operator requires only one part of the condiitonal statement to be true for the entire statement to evaluate to `True`. The `not` operator is a little weird and  requires the conditional statement (you guessed it) to NOT be true for the conditional statement to evaluate to True.  Here is an example using the `and` operator: "
   ]
  },
  {
   "cell_type": "code",
   "execution_count": 30,
   "id": "0062f706",
   "metadata": {},
   "outputs": [
    {
     "name": "stdout",
     "output_type": "stream",
     "text": [
      "a is the smallest value\n"
     ]
    }
   ],
   "source": [
    "a = 1 \n",
    "b = 2\n",
    "c = 3\n",
    "if b > a and c > a : \n",
    "    print(\"a is the smallest value\")\n",
    "else: \n",
    "    print(\"a is not the smallest value\")"
   ]
  },
  {
   "cell_type": "markdown",
   "id": "df51c873",
   "metadata": {},
   "source": [
    "Notice here that we combined two conditional statements: `a > b` and `c > a`. The `and` operator allows us to do this. Here is an example of how you would use the `not` operator, if you are curious: "
   ]
  },
  {
   "cell_type": "code",
   "execution_count": 35,
   "id": "27c1c724",
   "metadata": {},
   "outputs": [
    {
     "name": "stdout",
     "output_type": "stream",
     "text": [
      "a is not larger than c\n"
     ]
    }
   ],
   "source": [
    "a = 1 \n",
    "b = 2\n",
    "c = 3\n",
    "if not c > a : \n",
    "    print(\"a is larger than c\")\n",
    "else: \n",
    "    print(\"a is not larger than c\")"
   ]
  },
  {
   "cell_type": "markdown",
   "id": "8c31401a",
   "metadata": {},
   "source": [
    "Here, `a` is less than `c`, therefore the statement `If not c > a` evaluates to `False` because `c` is greater than `a`. So, the else statement is run and the program prints \"a is not larger than c\"."
   ]
  },
  {
   "cell_type": "markdown",
   "id": "478d1e6b",
   "metadata": {},
   "source": [
    "<h2>Elif</h2>\n",
    "\n",
    "The `elif` statement is a way for us to add multiple If/else statements into our code in a concise way. Basically, if the first condition is not met the statement following `elif` will be checked and if that is met, the code below is run. If the second condition is not met, you can either add another `elif` statement and check another condition or use the `else` statement to account for all other cases. "
   ]
  },
  {
   "cell_type": "code",
   "execution_count": 39,
   "id": "6ba40027",
   "metadata": {},
   "outputs": [
    {
     "name": "stdout",
     "output_type": "stream",
     "text": [
      "some of the values are equal\n"
     ]
    }
   ],
   "source": [
    "a = 1 \n",
    "b = 2\n",
    "c = 1\n",
    "if c == a and b == a and b == c : \n",
    "    print(\"all values are equal\")\n",
    "elif b == a or c == a or b == c : \n",
    "    print (\"some of the values are equal\")\n",
    "else: \n",
    "    print(\"none of the balues are equal\")"
   ]
  },
  {
   "cell_type": "markdown",
   "id": "b871e7fb",
   "metadata": {},
   "source": [
    "Here, we used the `elif` statement to add another if/else to our code. \"Elif\" is short for \"Else If\" and you can think of it as a way for us to chain multiple conditional statements together in one  conditional statements. The first `if` statement evaluates to `False` because all three values are not equal. Next, the `elif` block runs. This time, at least one pair of the variables are equivalent (which satisfies the requirements of the `or` operator), so this `elif` statement evaluates to `True` and the code below runs. \n",
    "\n",
    "Challenge: See if you can modify this code by adding more `elif` statements so this conditional tells us specifically what values are equivalent.\n",
    "\n",
    "Check out the <a href=\"https://docs.python.org/3/tutorial/controlflow.html\">python documentation</a> for more information on how you can control the flow of your code. Also, be sure to consult the  <a href=\"https://python-reference.readthedocs.io/en/latest/docs/operators/\">full documentation on python operators</a> as well because we did not cover all of them. \n",
    "\n",
    "If you are like me, everything makes more sense when put into fantasy football terms. So let's check out an example that helps us compare the NFL's top receivers. "
   ]
  },
  {
   "cell_type": "code",
   "execution_count": 40,
   "id": "dff176b0",
   "metadata": {},
   "outputs": [
    {
     "name": "stdout",
     "output_type": "stream",
     "text": [
      "Tyreek Hill is a top receiver.\n"
     ]
    }
   ],
   "source": [
    "name = \"Tyreek Hill\"\n",
    "receiving_yards = 1710\n",
    "\n",
    "if receiving_yards >= 1000:\n",
    "    print(f\"{name} is a top receiver.\")"
   ]
  },
  {
   "cell_type": "markdown",
   "id": "b707765d",
   "metadata": {},
   "source": [
    "In this example,`if` tells the computer that whatever we write next will be a condition that needs to be met for the code underneath to run. Next, we establish that the receving yards variable is part of that condition by using the `>=` comparison operator. This one stands for \"greater than or equal to\" and gives the computer the condition that `receving_yards` must be greater than or equal to `1000`. If that condition is met, the `:` colon symbol is used to represent the word \"then\" and the code beneath the if statement is run. So, in a sense we are \"teaching\" the computer with this if-statement that any player that has 1,000 receivng yards or more in an NFL season can be considered a top receiver. In this example, Tyreek Hill had more than 1,000 yards receiving, and our conditional statement evaluates to `True` and the program prints \"Tyreek Hill is a top receiver\". \n",
    "\n",
    "I threw in a bonus here and used an f-string in our print statement. F - strings allow us to incoroporate variables into strings in a more efficient way. I won't go into detail here, but more information on f-strings can be found <a href=\"https://docs.python.org/3/tutorial/inputoutput.html\">here</a>. \n",
    "\n",
    "What happens if the condition is not met? To explore this scenario, let's introduce a reciever that didn't quite meet expectations this year. "
   ]
  },
  {
   "cell_type": "code",
   "execution_count": 33,
   "id": "32c5808a",
   "metadata": {},
   "outputs": [
    {
     "name": "stdout",
     "output_type": "stream",
     "text": [
      "Kenny Golladay is not a top receiver.\n"
     ]
    }
   ],
   "source": [
    "name = \"Kenny Golladay\"\n",
    "receiving_yards = 81\n",
    "\n",
    "if receiving_yards >= 1000:\n",
    "    print(f\"{name} is a top receiver.\")\n",
    "else: \n",
    "    print(f\"{name} is not a top receiver.\")"
   ]
  },
  {
   "cell_type": "markdown",
   "id": "67c7c76b",
   "metadata": {},
   "source": [
    "Kenny Gollday's cap hit this year was 21.4 million dollars. With 81 receiving yards, that means the Giants paid roughly $264,197 per yard. Woof. \n",
    "\n",
    "Anyway, We added an `else` statement to our conditional that basically states that if the first condition is not met, then a different line of code needs to run. In this case, Kenny G did not have greater than or equal to 1,000 yards in 2022, so the second print function executes. \n",
    "\n",
    "Let's pull everything together and apply multiple conditionals to multiple players at the same time. To do this we will need to use our fancy new conditional statements, a function, a `for` loop,  and a `dict`. If you get confused here, refer back to our older posts! "
   ]
  },
  {
   "cell_type": "code",
   "execution_count": 38,
   "id": "a19a65cd",
   "metadata": {},
   "outputs": [
    {
     "name": "stdout",
     "output_type": "stream",
     "text": [
      "Tyreek Hill is a top receiver.\n",
      "Kenny Golladay is not a top receiver.\n",
      "George Pickens is an above average receiver.\n"
     ]
    }
   ],
   "source": [
    "#establish a dictionary for 2022 player stats\n",
    "players = [\n",
    "    {\n",
    "    \"name\": \"Tyreek Hill\",\n",
    "    \"receiving_yards\": 1710,\n",
    "    \"touchdowns\": 7\n",
    "    },\n",
    "    {\n",
    "    \"name\": \"Kenny Golladay\",\n",
    "    \"receiving_yards\": 81,\n",
    "    \"touchdowns\": 1\n",
    "    },\n",
    "    {\n",
    "    \"name\": \"George Pickens\",\n",
    "    \"receiving_yards\": 801,\n",
    "    \"touchdowns\": 4\n",
    "    }\n",
    "]\n",
    "#define a function to rate receivers\n",
    "def receiver_rater(name, receiving_yards, touchdowns):\n",
    "#print \"is a top receiver for players with greater than or equal to 1000 yards AND greater than or equal to 7 touchdowns\"\n",
    "    if receiving_yards >= 1000 and touchdowns >= 7:\n",
    "        print(f\"{name} is a top receiver.\")\n",
    "#print \"is an above average receiver for players with greater than or equal to 800 yards OR more than 4 touchdowns\"\n",
    "    elif receiving_yards >= 800 or touchdowns > 4:\n",
    "        print(f\"{name} is an above average receiver.\")\n",
    "#print \"is not a top receiver for all other players that do not meet the first two conditions\"\n",
    "    else:\n",
    "        print(f\"{name} is not a top receiver.\")\n",
    "\n",
    "#loop through the dictionary and apply the receiver rater function to each player in the dictionary\n",
    "for player in players: \n",
    "    receiver_rater(name=player['name'],receiving_yards=player['receiving_yards'],touchdowns=player['touchdowns'])"
   ]
  },
  {
   "cell_type": "markdown",
   "id": "89deead4",
   "metadata": {},
   "source": [
    "To recap, we established a dictionary of three different receivers. The `key` : `value` pairs here represent the player names, their receivng yards, and touchdowns for the 2022 season. Next, we created a function called `receiver_rater` that takes the `name`, `receiving_yards`, and `touchdowns` as arguments and prints the appropriate statement based on our conditional statements. Finally, We use a `for` loop to iterate through our `dict` (for player in players) and apply the function to each player in the dictionary. Let's take a closer look at the conditional statement within our function."
   ]
  },
  {
   "cell_type": "code",
   "execution_count": null,
   "id": "fc458585",
   "metadata": {},
   "outputs": [],
   "source": [
    "    if receiving_yards >= 1000 and touchdowns >= 7:\n",
    "        print(f\"{name} is a top receiver.\")"
   ]
  },
  {
   "cell_type": "markdown",
   "id": "7ca334cf",
   "metadata": {},
   "source": [
    "In the first line of our conditional we use the `and` operator to combine the receiving yard and touchdown conditions. So, if a player has more than 1,000 receivng yards AND greater than or equal to 7 touchdowns, then that player is a top receiver and the print function below runs using that players name in the print statement. "
   ]
  },
  {
   "cell_type": "code",
   "execution_count": null,
   "id": "7d9c59e2",
   "metadata": {},
   "outputs": [],
   "source": [
    "    elif receiving_yards >= 800 or touchdowns > 4:\n",
    "        print(f\"{name} is an above average receiver.\")"
   ]
  },
  {
   "cell_type": "markdown",
   "id": "f804496a",
   "metadata": {},
   "source": [
    "Our second condition is \"if receiving yards are greater than or equal to 800 OR touchdowns are greater than 4 then run the code below\". Here, the `or` logical operator is used and is less \"strict\" than the `and` operator. In this case, only one of the two conditions in our `elif` statement need to be met for the second print function to run. If we wanted to be more strict in our definition of an above average wide receiver we could certainly use an `and` operator here instead of the `or` operator. Remember, you can use as many `elif` statements as you want to establish as many different conditions as you want."
   ]
  },
  {
   "cell_type": "code",
   "execution_count": null,
   "id": "d08e7847",
   "metadata": {},
   "outputs": [],
   "source": [
    "    else:\n",
    "        print(f\"{name} is not a top receiver.\")"
   ]
  },
  {
   "cell_type": "markdown",
   "id": "5b92bcbb",
   "metadata": {},
   "source": [
    "Finally, we again use the `else` statement to catch all other scenarios when the `if` and `elif` conditions are not met. For this simplified example, if you are not a \"top receiver\" or an \"above average receiver\", then you are simply \"not a top receiver\". I'd feel bad for Kenny here but he made 21 million dollars to chill on the sidelines this year. So good for him, I guess.\n",
    "\n",
    "Challenge: add Josh Palmer to the dictionary using <a href=\"https://www.pro-football-reference.com/players/P/PalmJo00.htm\">his 2022 stats from pro-football-reference</a> and add another `elif` statement to the function that would define him as an \"average receiver\". "
   ]
  },
  {
   "cell_type": "markdown",
   "id": "563fd48f",
   "metadata": {},
   "source": [
    "<h1>Concluding Thoughts</h1>\n",
    "\n",
    "In today's post we:\n",
    "<ul>\n",
    "<li>Learned the basic concepts of conditional statements in python</li>\n",
    "<li>Defined the meaning and purpose of logical and comparison operators</li>\n",
    "<li>used if/elif/else statements to define top receivers in the league</li> \n",
    "</ul>\n",
    "\n",
    "Now that you understand data types, functions, and conditionals we can start analyzing the 2022 season for actionable takeaways. We will do our first \"real\" analysis in the next post. \n",
    "\n",
    "Thanks for reading - You guys are all awesome and happy coding!"
   ]
  }
 ],
 "metadata": {
  "kernelspec": {
   "display_name": "Python 3 (ipykernel)",
   "language": "python",
   "name": "python3"
  },
  "language_info": {
   "codemirror_mode": {
    "name": "ipython",
    "version": 3
   },
   "file_extension": ".py",
   "mimetype": "text/x-python",
   "name": "python",
   "nbconvert_exporter": "python",
   "pygments_lexer": "ipython3",
   "version": "3.9.12"
  },
  "vscode": {
   "interpreter": {
    "hash": "506a319ebebdb00029c604657cb2bbab64f5a438866e497f04618e385c1d8ae6"
   }
  }
 },
 "nbformat": 4,
 "nbformat_minor": 5
}
