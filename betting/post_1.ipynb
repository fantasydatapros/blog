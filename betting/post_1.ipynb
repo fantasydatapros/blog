{
 "cells": [
  {
   "cell_type": "markdown",
   "metadata": {
    "id": "0ETdbB2qJvRK"
   },
   "source": [
    "This post is the start in a series of posts (hopefully) on probability theory and how to apply it and the associated tools we have at our disposal in Python to sports betting. We are starting this post a bit late in the NFL season (there's literally one game left in the season), but we're hoping to also come out with betting content related to the NBA, so stay tuned and join our mailing list for updates on that.\n",
    "\n",
    "In previous content, we haven't focused too much on either betting or probability theory. That's partly because I never really bet before, and I generally stuck to what I know which is traditional, redraft Fantasy Football. That all changed when I hit 2 parlays two weekends in a row this NFL playoffs (took Bengals over Bills money line and SF to cover the spread, then took KC money line and Eagles to cover the spread) and turned 25 dollars in 575. Not bragging since I probably just rewired my brain circuitry to never enjoy another NFL game again without a having a little action on (gamble at your own risk, please). So essentially I got traded $550 for the inability to ever again just sit comfortably and watch the game with the boys. I got the itch now, so to speak, which is half the reason I'm writing a lengthy post on doing this stuff in Python (and also planning on releasing a whole course).\n",
    "\n",
    "The focus of this post will be for finding potentially profitable bets for this year's Super Bowl. We will do so by teaching you a little bit about probability, then applying two different probability distributions to two different types of props (just to keep things simple), calculating probabilities for outcomes, and then comparing that to the implied probability of the lines we get from our sports book. \n",
    "\n",
    "# How to Think Like a Profitable Bettor\n",
    "\n",
    "Our rule will be that if the probability we calculate of an outcome ocurring is greater than the implied probability from the money line, then we take that bet. That should, in theory, make the bet positive expected value (or EV, for short). \n",
    "\n",
    "It's worthy to note that just because we take a positive EV bet, doesn't make it <i>likely</i> to hit. We could take a positive EV bet where the edge is 1%, that is the calculated probability we get from our analysis is 44% but the book is giving us 43% odds. There's still a 56% chance we lose our money, or more likely than not. It's positive EV because that 1% profit margin will be realized over time, or over a series of many bets. The essence of having an edge in any probabilistic endeavour like sports betting is that the edge is unfolded over time, but there is of course an element of randomness that prevents a bettor from having strong predictability around individual occurences (bets). \n",
    "\n",
    "I personally learned this way of thinking through trading and investing, and it's exactly this mindset that's taught to successful investors. It applies equally here in sports betting just as well. The difference though is that it's actually <i>easier</i> to think this way in sports betting, because your R-factor, or risk-to-reward ratio, is already explicitly set by the money line, whereas in investing these things are more fluid and you must set the R-factor yourself. \n",
    "\n",
    "Remember that we are implying the probabilities from the lines, but what the line is <i>explicitly</i> telling us is our risk-to-reward ratio. If we have a bet that's +200, that's a 2 to 1 payout, and a 33% implied probability (100/200+100). 33% is also our breakeven point on any 2-1 bet, ever. Which means, if we consistently took +200 bets, we would need a 33% win rate to breakeven. If we are able to push our win rate above 33%, even to say 35%, we've developed an edge and positive EV. \n",
    "\n",
    "This also means, that by definition, just taking sports bets at random, your EV is 0 and you are expected to lose no money and gain no money assuming Vegas is right over the long run (it's not a bad assumption to make).\n",
    "\n",
    "This example assumes you use proper bet sizing and money management to not irresponsibly increase your risk of ruin, and also assumes no transaction costs which would push your EV below 0 (there's always transaction costs, so our perfect world example does fail). \n",
    "\n",
    "This is also on average. Depending on how conservatively you bet, you may just lose all of your money just off bad luck (variance). For this reason, only ever bet money you are willing to lose.\n",
    "\n",
    "In investing, literally no one will set that fixed payout structure for you, which can be the most challenging part of the risk management component of investing, intellectually and psychologically. \n",
    "\n",
    "We have a head start when coming to sports betting, and we should probably take advantage of that fact (Along with other advantages, including the fact that sports betting markets are signifcantly less efficient than global financial markets).\n",
    "\n",
    "# Super Bowl Lines\n",
    "\n",
    "I'm pulling the lines from DraftKings here, and won't combine multiple lines from multiple books cause I want to keep things simple. \n",
    "\n",
    "We'll be dealing with two types of player props, since they, in my opinion are the easiest ones to conceptually model via our chosen probability distributions. \n",
    "\n",
    "We'll be pass attempts for Mahomes and Hurts, and Anytime TD scorer for Travis Kelce, Miles Sanders, and AJ Brown. The lines are below:\n",
    "\n",
    "Patrick Mahomes Over 38.5 Pass Attempts (-145)\n",
    "\n",
    "Jalen Hurts Over 31.5 Pass Attempts (-105)\n",
    "\n",
    "Travis Kelce Anytime TD Scorer (-135)\n",
    "\n",
    "Miles Sanders Anytime TD scorer (-110)\n",
    "\n",
    "AJ Brown Anytime TD Scorer (+105)\n",
    "\n",
    "\n",
    "# Probability Theory\n",
    "\n",
    "For pass completions, we'll model our players using a poisson distribution."
   ]
  },
  {
   "cell_type": "code",
   "execution_count": 1,
   "metadata": {
    "colab": {
     "base_uri": "https://localhost:8080/"
    },
    "id": "XO_nTiAnLHyT",
    "outputId": "85b59234-9f80-4d8e-baff-8aa0b79af060"
   },
   "outputs": [
    {
     "name": "stdout",
     "output_type": "stream",
     "text": [
      "\u001b[33mDEPRECATION: Configuring installation scheme with distutils config files is deprecated and will no longer work in the near future. If you are using a Homebrew or Linuxbrew Python, please see discussion at https://github.com/Homebrew/homebrew-core/issues/76621\u001b[0m\u001b[33m\n",
      "\u001b[0mRequirement already satisfied: nfl-data-py in /opt/homebrew/lib/python3.9/site-packages (0.3.0)\n",
      "Requirement already satisfied: matplotlib in /opt/homebrew/lib/python3.9/site-packages (3.6.3)\n",
      "Requirement already satisfied: seaborn in /opt/homebrew/lib/python3.9/site-packages (0.12.2)\n",
      "Requirement already satisfied: fastparquet>0.5 in /opt/homebrew/lib/python3.9/site-packages (from nfl-data-py) (2023.1.0)\n",
      "Requirement already satisfied: appdirs>1 in /opt/homebrew/lib/python3.9/site-packages (from nfl-data-py) (1.4.4)\n",
      "Requirement already satisfied: python-snappy>0.5 in /opt/homebrew/lib/python3.9/site-packages (from nfl-data-py) (0.6.1)\n",
      "Requirement already satisfied: pandas>1 in /opt/homebrew/lib/python3.9/site-packages (from nfl-data-py) (1.5.3)\n",
      "Requirement already satisfied: kiwisolver>=1.0.1 in /opt/homebrew/lib/python3.9/site-packages (from matplotlib) (1.4.4)\n",
      "Requirement already satisfied: fonttools>=4.22.0 in /opt/homebrew/lib/python3.9/site-packages (from matplotlib) (4.38.0)\n",
      "Requirement already satisfied: cycler>=0.10 in /opt/homebrew/lib/python3.9/site-packages (from matplotlib) (0.11.0)\n",
      "Requirement already satisfied: python-dateutil>=2.7 in /opt/homebrew/lib/python3.9/site-packages (from matplotlib) (2.8.2)\n",
      "Requirement already satisfied: packaging>=20.0 in /opt/homebrew/lib/python3.9/site-packages (from matplotlib) (21.3)\n",
      "Requirement already satisfied: numpy>=1.19 in /opt/homebrew/lib/python3.9/site-packages (from matplotlib) (1.22.3)\n",
      "Requirement already satisfied: pyparsing>=2.2.1 in /opt/homebrew/lib/python3.9/site-packages (from matplotlib) (3.0.8)\n",
      "Requirement already satisfied: contourpy>=1.0.1 in /opt/homebrew/lib/python3.9/site-packages (from matplotlib) (1.0.7)\n",
      "Requirement already satisfied: pillow>=6.2.0 in /opt/homebrew/lib/python3.9/site-packages (from matplotlib) (9.1.0)\n",
      "Requirement already satisfied: cramjam>=2.3 in /opt/homebrew/lib/python3.9/site-packages (from fastparquet>0.5->nfl-data-py) (2.6.2)\n",
      "Requirement already satisfied: fsspec in /opt/homebrew/lib/python3.9/site-packages (from fastparquet>0.5->nfl-data-py) (2023.1.0)\n",
      "Requirement already satisfied: pytz>=2020.1 in /opt/homebrew/lib/python3.9/site-packages (from pandas>1->nfl-data-py) (2022.1)\n",
      "Requirement already satisfied: six>=1.5 in /opt/homebrew/lib/python3.9/site-packages (from python-dateutil>=2.7->matplotlib) (1.16.0)\n",
      "\u001b[33mDEPRECATION: Configuring installation scheme with distutils config files is deprecated and will no longer work in the near future. If you are using a Homebrew or Linuxbrew Python, please see discussion at https://github.com/Homebrew/homebrew-core/issues/76621\u001b[0m\u001b[33m\n",
      "\u001b[0m\u001b[33mWARNING: You are using pip version 22.0.4; however, version 23.0 is available.\n",
      "You should consider upgrading via the '/opt/homebrew/opt/python@3.9/bin/python3.9 -m pip install --upgrade pip' command.\u001b[0m\u001b[33m\n",
      "\u001b[0mNote: you may need to restart the kernel to use updated packages.\n"
     ]
    }
   ],
   "source": [
    "%pip install nfl-data-py matplotlib seaborn"
   ]
  },
  {
   "cell_type": "code",
   "execution_count": 11,
   "metadata": {
    "id": "B-vGsL5KKNXR"
   },
   "outputs": [],
   "source": [
    "import nfl_data_py as nfl\n",
    "import numpy as np\n",
    "from matplotlib import pyplot as plt\n",
    "import seaborn as sns\n",
    "\n",
    "\n",
    "import warnings; warnings.simplefilter('ignore')\n",
    "\n",
    "random = np.random.default_rng(42)\n",
    "\n",
    "plt.style.use('ggplot')"
   ]
  },
  {
   "cell_type": "code",
   "execution_count": 12,
   "metadata": {
    "id": "DLC7YpHlLFzX"
   },
   "outputs": [],
   "source": [
    "mahomes_pa_ou = 38.5\n",
    "line = -145 # for the over"
   ]
  },
  {
   "cell_type": "code",
   "execution_count": 13,
   "metadata": {},
   "outputs": [
    {
     "name": "stdout",
     "output_type": "stream",
     "text": [
      "Implied probability of over 38.5 pass attempts for Mahomes in the Super Bowl is:  0.59\n"
     ]
    }
   ],
   "source": [
    "def implied_probability(money_line, round_n=2):\n",
    "  if money_line < 0:\n",
    "    return round(money_line / (money_line - 100), round_n)\n",
    "  else:\n",
    "    return round(1 - (money_line / (money_line + 100)), round_n)\n",
    "\n",
    "ip_x = implied_probability(line)  \n",
    "print(f'Implied probability of over {mahomes_pa_ou} pass attempts for Mahomes in the Super Bowl is: ', ip_x)"
   ]
  },
  {
   "cell_type": "code",
   "execution_count": 14,
   "metadata": {},
   "outputs": [
    {
     "name": "stdout",
     "output_type": "stream",
     "text": [
      "Downcasting floats.\n"
     ]
    },
    {
     "data": {
      "text/plain": [
       "array([27, 28, 38, 45, 38, 36, 39, 34, 32, 28, 46, 38, 53, 34, 40, 24, 41,\n",
       "       31, 33, 44, 37, 42, 39, 35, 11, 50, 32, 29, 40, 34, 33, 25, 35, 35,\n",
       "       42, 32, 47, 42, 29, 43, 26, 23, 42, 45, 45, 49, 40, 34, 47, 44, 30,\n",
       "       38, 49, 36, 31, 44, 30, 54, 47, 35, 48, 37, 50, 37, 29, 24, 47, 30,\n",
       "       35, 44, 39, 44, 39, 39, 35, 35, 37, 43, 40, 34, 68, 35, 34, 42, 27,\n",
       "       42, 41, 28, 42, 26, 30, 43], dtype=int32)"
      ]
     },
     "execution_count": 14,
     "metadata": {},
     "output_type": "execute_result"
    }
   ],
   "source": [
    "#load our data for mahomes\n",
    "weekly_data = nfl.import_weekly_data(years=range(2018, 2023), columns=['player_name', 'attempts'])\n",
    "mahomes_pa = weekly_data.loc[weekly_data['player_name'] == 'P.Mahomes'].attempts.values\n",
    "\n",
    "mahomes_pa"
   ]
  },
  {
   "cell_type": "code",
   "execution_count": 15,
   "metadata": {},
   "outputs": [
    {
     "data": {
      "image/png": "[encoded data removed]",
      "text/plain": [
       "<Figure size 432x288 with 1 Axes>"
      ]
     },
     "metadata": {},
     "output_type": "display_data"
    }
   ],
   "source": [
    "plt.hist(mahomes_pa, bins=25);"
   ]
  },
  {
   "cell_type": "code",
   "execution_count": 16,
   "metadata": {},
   "outputs": [
    {
     "name": "stdout",
     "output_type": "stream",
     "text": [
      "Sample size:  92\n",
      "Mean:  37.54347826086956\n",
      "Median:  37.5\n",
      "Standard deviation:  8.217707608359154\n"
     ]
    }
   ],
   "source": [
    "print('Sample size: ', len(mahomes_pa))\n",
    "print('Mean: ', mahomes_pa.mean())\n",
    "print('Median: ', np.median(mahomes_pa))\n",
    "print('Standard deviation: ', mahomes_pa.std())"
   ]
  },
  {
   "cell_type": "code",
   "execution_count": 17,
   "metadata": {},
   "outputs": [],
   "source": [
    "# sampling with replacement first\n",
    "xs = np.array([])\n",
    "n_simulations = 10_000\n",
    "\n",
    "for _ in range(n_simulations):\n",
    "    boot_x = np.random.choice(mahomes_pa, size=len(mahomes_pa), replace=True).mean()\n",
    "    xs =  np.append(xs, boot_x)"
   ]
  },
  {
   "cell_type": "code",
   "execution_count": 18,
   "metadata": {},
   "outputs": [
    {
     "data": {
      "text/plain": [
       "array([38.56521739, 39.0326087 , 38.13043478, ..., 37.98913043,\n",
       "       37.47826087, 36.56521739])"
      ]
     },
     "execution_count": 18,
     "metadata": {},
     "output_type": "execute_result"
    }
   ],
   "source": [
    "xs"
   ]
  },
  {
   "cell_type": "code",
   "execution_count": 19,
   "metadata": {},
   "outputs": [
    {
     "data": {
      "image/png": "[encoded data removed]",
      "text/plain": [
       "<Figure size 432x288 with 1 Axes>"
      ]
     },
     "metadata": {},
     "output_type": "display_data"
    }
   ],
   "source": [
    "sns.distplot(xs);\n",
    "plt.gca().vlines(x=mahomes_pa_ou, ymin=0, ymax=0.5, color='blue');\n",
    "plt.gcf().legend(['Bootstrapped means', 'Mahomes Pass Attempt O/U']);"
   ]
  },
  {
   "cell_type": "code",
   "execution_count": 25,
   "metadata": {},
   "outputs": [
    {
     "data": {
      "text/plain": [
       "(35.869565217391305, 39.27173913043478)"
      ]
     },
     "execution_count": 25,
     "metadata": {},
     "output_type": "execute_result"
    }
   ],
   "source": [
    "lower_bound, upper_bound = np.quantile(xs, 0.025), np.quantile(xs, 0.975)\n",
    "lower_bound, upper_bound"
   ]
  },
  {
   "cell_type": "code",
   "execution_count": 26,
   "metadata": {},
   "outputs": [
    {
     "data": {
      "image/png": "[encoded data removed]",
      "text/plain": [
       "<Figure size 432x288 with 1 Axes>"
      ]
     },
     "metadata": {},
     "output_type": "display_data"
    }
   ],
   "source": [
    "def ecdf(data):\n",
    "  n = len(data)\n",
    "  x = np.sort(data)\n",
    "  y = np.arange(1, n + 1) / n\n",
    "  return x, y\n",
    "\n",
    "ecdf_x, ecdf_y = ecdf(mahomes_pa);\n",
    "plt.plot(ecdf_x, ecdf_y, marker='.', linestyle='none');\n",
    "\n",
    "mean_mahomes_pa = np.mean(mahomes_pa)\n",
    "\n",
    "n_reps = 1000\n",
    "\n",
    "for i in range(n_reps):\n",
    "  samples = np.random.poisson(np.mean(mahomes_pa), size=len(mahomes_pa))\n",
    "  theor_x, theor_y = ecdf(samples)\n",
    "  plt.plot(theor_x, theor_y, marker='.', linestyle='none', alpha=0.01, color='lightgrey')"
   ]
  },
  {
   "cell_type": "code",
   "execution_count": 27,
   "metadata": {},
   "outputs": [
    {
     "name": "stdout",
     "output_type": "stream",
     "text": [
      "0.4254\n",
      "Take the under\n"
     ]
    }
   ],
   "source": [
    "poisson_arr = np.random.poisson(lam=mahomes_pa.mean(), size=n_simulations)\n",
    "\n",
    "calculated_probability = sum(poisson_arr > mahomes_pa_ou) / n_simulations\n",
    "print(calculated_probability)\n",
    "if calculated_probability > ip_x:\n",
    "  print('Take the over')\n",
    "else:\n",
    "  print('Take the under')"
   ]
  },
  {
   "cell_type": "code",
   "execution_count": 28,
   "metadata": {},
   "outputs": [
    {
     "data": {
      "text/plain": [
       "0.3257"
      ]
     },
     "execution_count": 28,
     "metadata": {},
     "output_type": "execute_result"
    }
   ],
   "source": [
    "poisson_arr_lower_bound = np.random.poisson(lam=lower_bound, size=n_simulations)\n",
    "calculated_probability_lower_bound = sum(poisson_arr_lower_bound > mahomes_pa_ou) / n_simulations\n",
    "calculated_probability_lower_bound"
   ]
  },
  {
   "cell_type": "code",
   "execution_count": 29,
   "metadata": {},
   "outputs": [
    {
     "data": {
      "text/plain": [
       "(0.5405, 0.59)"
      ]
     },
     "execution_count": 29,
     "metadata": {},
     "output_type": "execute_result"
    }
   ],
   "source": [
    "poisson_arr_upper_bound = np.random.poisson(lam=upper_bound, size=n_simulations)\n",
    "calculated_probability_upper_bound = sum(poisson_arr_upper_bound > mahomes_pa_ou) / n_simulations\n",
    "calculated_probability_upper_bound, round(ip_x, 4)"
   ]
  },
  {
   "cell_type": "code",
   "execution_count": 32,
   "metadata": {},
   "outputs": [],
   "source": [
    "hurts_pa_ou = 31.5\n",
    "line = -105 # for the over"
   ]
  },
  {
   "cell_type": "code",
   "execution_count": 35,
   "metadata": {},
   "outputs": [
    {
     "name": "stdout",
     "output_type": "stream",
     "text": [
      "Implied probability of over 31.5 pass attempts for hurts in the Super Bowl is:  0.51\n"
     ]
    }
   ],
   "source": [
    "def implied_probability(money_line, round_n=2):\n",
    "  if money_line < 0:\n",
    "    return round(money_line / (money_line - 100), round_n)\n",
    "  else:\n",
    "    return round(1 - (money_line / (money_line + 100)), round_n)\n",
    "\n",
    "ip_x = implied_probability(line)  \n",
    "print(f'Implied probability of over {hurts_pa_ou} pass attempts for Hurts in the Super Bowl is: ', ip_x)"
   ]
  },
  {
   "cell_type": "code",
   "execution_count": 38,
   "metadata": {},
   "outputs": [
    {
     "name": "stdout",
     "output_type": "stream",
     "text": [
      "Downcasting floats.\n"
     ]
    },
    {
     "data": {
      "text/plain": [
       "array([35, 23, 39, 48, 37, 26, 34, 14, 17, 23, 24, 31, 26, 29, 26, 43, 32,\n",
       "       31, 35, 25, 36, 25, 28, 27, 26, 25, 28, 39, 31, 37, 35, 24, 25],\n",
       "      dtype=int32)"
      ]
     },
     "execution_count": 38,
     "metadata": {},
     "output_type": "execute_result"
    }
   ],
   "source": [
    "#using 2021 because he didn't play much his rookie year \n",
    "weekly_data = nfl.import_weekly_data(years=range(2021, 2023), columns=['player_name', 'attempts'])\n",
    "hurts_pa = weekly_data.loc[weekly_data['player_name'] == 'J.Hurts'].attempts.values\n",
    "\n",
    "hurts_pa"
   ]
  },
  {
   "cell_type": "code",
   "execution_count": 39,
   "metadata": {},
   "outputs": [
    {
     "data": {
      "image/png": "[encoded data removed]",
      "text/plain": [
       "<Figure size 432x288 with 1 Axes>"
      ]
     },
     "metadata": {},
     "output_type": "display_data"
    }
   ],
   "source": [
    "plt.hist(hurts_pa, bins=25);"
   ]
  },
  {
   "cell_type": "code",
   "execution_count": 40,
   "metadata": {},
   "outputs": [
    {
     "name": "stdout",
     "output_type": "stream",
     "text": [
      "Sample size:  33\n",
      "Mean:  29.818181818181817\n",
      "Median:  28.0\n",
      "Standard deviation:  7.098674846265517\n"
     ]
    }
   ],
   "source": [
    "print('Sample size: ', len(hurts_pa))\n",
    "print('Mean: ', hurts_pa.mean())\n",
    "print('Median: ', np.median(hurts_pa))\n",
    "print('Standard deviation: ', hurts_pa.std())"
   ]
  },
  {
   "cell_type": "code",
   "execution_count": 45,
   "metadata": {},
   "outputs": [],
   "source": [
    "# sampling with replacement first\n",
    "xs = np.array([])\n",
    "n_simulations = 10_000\n",
    "\n",
    "for _ in range(n_simulations):\n",
    "    boot_x = np.random.choice(hurts_pa, size=len(hurts_pa), replace=True).mean()\n",
    "    xs =  np.append(xs, boot_x)"
   ]
  },
  {
   "cell_type": "code",
   "execution_count": 46,
   "metadata": {},
   "outputs": [
    {
     "data": {
      "text/plain": [
       "array([31.03030303, 29.03030303, 27.33333333, ..., 30.24242424,\n",
       "       29.21212121, 30.27272727])"
      ]
     },
     "execution_count": 46,
     "metadata": {},
     "output_type": "execute_result"
    }
   ],
   "source": [
    "xs"
   ]
  },
  {
   "cell_type": "code",
   "execution_count": 47,
   "metadata": {},
   "outputs": [
    {
     "data": {
      "image/png": "[encoded data removed]",
      "text/plain": [
       "<Figure size 432x288 with 1 Axes>"
      ]
     },
     "metadata": {},
     "output_type": "display_data"
    }
   ],
   "source": [
    "sns.distplot(xs);\n",
    "plt.gca().vlines(x=hurts_pa_ou, ymin=0, ymax=0.5, color='blue');\n",
    "plt.gcf().legend(['Bootstrapped means', 'Hurts Pass Attempt O/U']);"
   ]
  },
  {
   "cell_type": "code",
   "execution_count": 48,
   "metadata": {},
   "outputs": [
    {
     "data": {
      "text/plain": [
       "(27.424242424242426, 32.27272727272727)"
      ]
     },
     "execution_count": 48,
     "metadata": {},
     "output_type": "execute_result"
    }
   ],
   "source": [
    "lower_bound, upper_bound = np.quantile(xs, 0.025), np.quantile(xs, 0.975)\n",
    "lower_bound, upper_bound"
   ]
  },
  {
   "cell_type": "code",
   "execution_count": 49,
   "metadata": {},
   "outputs": [
    {
     "data": {
      "image/png": "[encoded data removed]",
      "text/plain": [
       "<Figure size 432x288 with 1 Axes>"
      ]
     },
     "metadata": {},
     "output_type": "display_data"
    }
   ],
   "source": [
    "def ecdf(data):\n",
    "  n = len(data)\n",
    "  x = np.sort(data)\n",
    "  y = np.arange(1, n + 1) / n\n",
    "  return x, y\n",
    "\n",
    "ecdf_x, ecdf_y = ecdf(hurts_pa);\n",
    "plt.plot(ecdf_x, ecdf_y, marker='.', linestyle='none');\n",
    "\n",
    "mean_hurts_pa = np.mean(hurts_pa)\n",
    "\n",
    "n_reps = 1000\n",
    "\n",
    "for i in range(n_reps):\n",
    "  samples = np.random.poisson(np.mean(hurts_pa), size=len(hurts_pa))\n",
    "  theor_x, theor_y = ecdf(samples)\n",
    "  plt.plot(theor_x, theor_y, marker='.', linestyle='none', alpha=0.01, color='lightgrey')"
   ]
  },
  {
   "cell_type": "code",
   "execution_count": 50,
   "metadata": {},
   "outputs": [
    {
     "name": "stdout",
     "output_type": "stream",
     "text": [
      "0.3696\n",
      "Take the under\n"
     ]
    }
   ],
   "source": [
    "poisson_arr = np.random.poisson(lam=hurts_pa.mean(), size=n_simulations)\n",
    "\n",
    "calculated_probability = sum(poisson_arr > hurts_pa_ou) / n_simulations\n",
    "print(calculated_probability)\n",
    "if calculated_probability > ip_x:\n",
    "  print('Take the over')\n",
    "else:\n",
    "  print('Take the under')"
   ]
  },
  {
   "cell_type": "code",
   "execution_count": 51,
   "metadata": {},
   "outputs": [
    {
     "data": {
      "text/plain": [
       "0.2208"
      ]
     },
     "execution_count": 51,
     "metadata": {},
     "output_type": "execute_result"
    }
   ],
   "source": [
    "poisson_arr_lower_bound = np.random.poisson(lam=lower_bound, size=n_simulations)\n",
    "calculated_probability_lower_bound = sum(poisson_arr_lower_bound > hurts_pa_ou) / n_simulations\n",
    "calculated_probability_lower_bound"
   ]
  },
  {
   "cell_type": "code",
   "execution_count": 53,
   "metadata": {},
   "outputs": [
    {
     "data": {
      "text/plain": [
       "(0.5323, 0.51)"
      ]
     },
     "execution_count": 53,
     "metadata": {},
     "output_type": "execute_result"
    }
   ],
   "source": [
    "poisson_arr_upper_bound = np.random.poisson(lam=upper_bound, size=n_simulations)\n",
    "calculated_probability_upper_bound = sum(poisson_arr_upper_bound > hurts_pa_ou) / n_simulations\n",
    "calculated_probability_upper_bound, round(ip_x, 4)"
   ]
  },
  {
   "cell_type": "code",
   "execution_count": null,
   "metadata": {},
   "outputs": [],
   "source": [
    "#miles sanders anytime td odds \n",
    "line = -110"
   ]
  },
  {
   "cell_type": "code",
   "execution_count": 54,
   "metadata": {},
   "outputs": [
    {
     "name": "stdout",
     "output_type": "stream",
     "text": [
      "Implied probability of Anytime TD pass attempts for Miles Sanders in the Super Bowl is:  0.51\n"
     ]
    }
   ],
   "source": [
    "def implied_probability(money_line, round_n=2):\n",
    "  if money_line < 0:\n",
    "    return round(money_line / (money_line - 100), round_n)\n",
    "  else:\n",
    "    return round(1 - (money_line / (money_line + 100)), round_n)\n",
    "\n",
    "ip_x = implied_probability(line)  \n",
    "print(f'Implied probability of Anytime TD for Miles Sanders in the Super Bowl is: ', ip_x)"
   ]
  },
  {
   "cell_type": "code",
   "execution_count": 55,
   "metadata": {},
   "outputs": [
    {
     "name": "stdout",
     "output_type": "stream",
     "text": [
      "2019 done.\n",
      "2020 done.\n",
      "2021 done.\n",
      "2022 done.\n",
      "Downcasting floats.\n"
     ]
    }
   ],
   "source": [
    "pbp_data = nfl.import_pbp_data(years=range(2019, 2023))\n"
   ]
  },
  {
   "cell_type": "code",
   "execution_count": 57,
   "metadata": {},
   "outputs": [
    {
     "data": {
      "text/plain": [
       "array([1., 1., 1., 1., 1., 1., 1., 1., 1., 1., 1., 1., 1., 1., 1., 1., 1.,\n",
       "       1., 1., 1., 1., 1., 1., 1., 1.], dtype=float32)"
      ]
     },
     "execution_count": 57,
     "metadata": {},
     "output_type": "execute_result"
    }
   ],
   "source": [
    "sanders_tds = pbp_data.loc[pbp_data['td_player_name'] == 'M.Sanders'].touchdown.values\n",
    "sanders_tds\n",
    "#im stuck, not sure how to stucture the data for touchdowns. "
   ]
  }
 ],
 "metadata": {
  "colab": {
   "provenance": []
  },
  "kernelspec": {
   "display_name": "Python 3 (ipykernel)",
   "language": "python",
   "name": "python3"
  },
  "language_info": {
   "codemirror_mode": {
    "name": "ipython",
    "version": 3
   },
   "file_extension": ".py",
   "mimetype": "text/x-python",
   "name": "python",
   "nbconvert_exporter": "python",
   "pygments_lexer": "ipython3",
   "version": "3.9.12"
  }
 },
 "nbformat": 4,
 "nbformat_minor": 1
}
