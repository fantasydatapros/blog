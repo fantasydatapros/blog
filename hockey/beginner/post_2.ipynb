{
 "cells": [
  {
   "cell_type": "markdown",
   "id": "782d8fd3",
   "metadata": {},
   "source": [
    "# Recap \n",
    "\n",
    "In this part of the beginner series, we will build upon the code from <a href=\"https://www.fantasydatapros.com/fantasyfootball/blog/1\">the last post</a>, introducing more layers and moving parts. We will discuss the Python namespace and how Python keeps track of all the objects we have defined in our program. Additionally, we will learn a little bit about libraries and how we can use them to import code into our namespace (although we won't be importing anything just yet) and built-in objects (which we've actually already used). We will also cover user-defined functions and functions in general.\n",
    "\n",
    "# Built-in objects and the namespace\n",
    "\n",
    "Built-in functions are functions (we touched briefly on this last time) that exist naturally in the Python <i>namespace</i>. The <a target=\"_blank\" href=\"https://www.geeksforgeeks.org/namespaces-and-scope-in-python/\">namespace</a> sounds very arcane, but essentially it is a collection of already defined names for things that we can use in our code. \n",
    "\n",
    "<h1>Namespaces</h1>\n",
    "\n",
    "I asked chatGPT to explain the namespace, to which it replied:\n",
    "\n",
    "<i>Python namespace is a collection of objects (variable, function, class, etc.) that can be accessed by a unique name. It's basically a way for Python to keep track of all the different objects that you have defined in your program, and make sure that each object has a unique name. This helps to prevent confusion and name collisions between different objects in your program.</i>\n",
    "\n",
    "We can import things in to our namespace, as we'll see in later posts, to bring in more items (functions and classes) to write our code. Importing external code will be useful when we start using libraries like pandas, Python's data manipulation library. A library is a bunch of code already written for you so you don't have to reinvent the wheel. When you import those libraries into your code you are then able to use them once you get them into the namespace.\n",
    "\n",
    "But there are certain objects that already exist without any necessary importing. These are called \"built-in\" objects. \n",
    "\n",
    "One such built-in function here is the `print` function, which we used in the last post. "
   ]
  },
  {
   "cell_type": "code",
   "execution_count": 1,
   "id": "2c2050b6",
   "metadata": {},
   "outputs": [
    {
     "name": "stdout",
     "output_type": "stream",
     "text": [
      "Hello World!\n"
     ]
    }
   ],
   "source": [
    "print('Hello World!')"
   ]
  },
  {
   "cell_type": "markdown",
   "id": "89deead4",
   "metadata": {},
   "source": [
    "We touched only briefly on functions last time, but essentially in Python, functions are blocks of code that are defined once and can be used repeatedly throughout a program. Functions allow for efficient and organized code by breaking down tasks into smaller, reusable chunks. They can accept arguments <i>(inputs)</i> and return values <i>(outputs)</i>. Functions can also be used to create modules, which are collections of related functions that can be imported into other Python scripts (as discussed, we'll be exploring some of these modules/libraries in later posts like pandas). Functions are a key part of Python programming and are used to make code more modular, maintainable, and readable.\n",
    "\n",
    "\n",
    "<h1>User-defined Functions</h1>\n",
    "\n",
    "User defined functions in Python are functions that are created and defined by the user, rather than being pre-defined in the language itself. Using a hockey example, a user may define a function that calculates the save percentage for a goalie in a given season. This function would take in parameters such as the player's name, the number of saves, and the number of shots on goal. the function would return the save percentage. This user defined function could then be called and used multiple times throughout the program to calculate save percentage for different goalies.\n",
    "\n",
    "To write a user-defined function in Python using an NHL example, you could follow these steps:\n",
    "\n",
    "1. Define the function by using the keyword `def` followed by the function name and any parameters that will be passed to the function. For example, a function that calculates a a goalie's save percentage might be defined like this:"
   ]
  },
  {
   "cell_type": "code",
   "execution_count": null,
   "id": "91b8a58e",
   "metadata": {
    "collapsed": true
   },
   "outputs": [],
   "source": [
    "def calculate_save_percentage(saves, shots_on_goal):"
   ]
  },
  {
   "cell_type": "markdown",
   "id": "d0af43ff",
   "metadata": {},
   "source": [
    "2. Inside the function, write the code that will perform the desired calculation. In the example above, this would be the code that divides the goalie's saves by the total number of shots on goal."
   ]
  },
  {
   "cell_type": "code",
   "execution_count": null,
   "id": "0eb0996b",
   "metadata": {},
   "outputs": [],
   "source": [
    "percentage = saves/ shots_on_goal"
   ]
  },
  {
   "cell_type": "markdown",
   "id": "a071dbc0",
   "metadata": {},
   "source": [
    "3. Return the result of the calculation by using the `return` keyword. In the example above, this would be the goalie's save percentage:"
   ]
  },
  {
   "cell_type": "code",
   "execution_count": null,
   "id": "4d5ad9bf",
   "metadata": {},
   "outputs": [],
   "source": [
    "return percentage"
   ]
  },
  {
   "cell_type": "markdown",
   "id": "d658df84",
   "metadata": {},
   "source": [
    "4. Call the function in your code by using the function name followed by any necessary arguments. For example, to calculate the save percentage for a goalie that had 91 saves on 100 shots on goal:"
   ]
  },
  {
   "cell_type": "code",
   "execution_count": null,
   "id": "c33fa08d",
   "metadata": {},
   "outputs": [],
   "source": [
    "save_percentage = calculate_save_percentage(91, 100)"
   ]
  },
  {
   "cell_type": "markdown",
   "id": "c25ba6f5",
   "metadata": {},
   "source": [
    "5. Print the result of the function call to see the result of the calculation. In the example above, this would be the player's save percentage:"
   ]
  },
  {
   "cell_type": "code",
   "execution_count": null,
   "id": "86f06e17",
   "metadata": {},
   "outputs": [],
   "source": [
    "print(save_percentage)  # Output: 0.91"
   ]
  },
  {
   "cell_type": "markdown",
   "id": "18e65a43",
   "metadata": {},
   "source": [
    "Overall, a user-defined function in Python using an NHL example might look like this:"
   ]
  },
  {
   "cell_type": "code",
   "execution_count": 3,
   "id": "6b7281b9",
   "metadata": {},
   "outputs": [
    {
     "name": "stdout",
     "output_type": "stream",
     "text": [
      "0.91\n"
     ]
    }
   ],
   "source": [
    "def calculate_save_percentage(saves, shots_on_goal): \n",
    "    percentage = saves/ shots_on_goal  \n",
    "    return percentage\n",
    "\n",
    "save_percentage = calculate_save_percentage(91, 100)\n",
    "print(save_percentage) "
   ]
  },
  {
   "cell_type": "markdown",
   "id": "4be517fc",
   "metadata": {},
   "source": [
    "Now let's take all of this new information and use it to make our example from the last post even better. How can we modularize our code in a way that makes it better? The answer is that we can write a function that takes in a player's name, number of goals and the number of shots on goal and outputs a human-readable string that tells us that player's shooting percentage."
   ]
  },
  {
   "cell_type": "code",
   "execution_count": 7,
   "id": "1e8f5eb5",
   "metadata": {},
   "outputs": [
    {
     "name": "stdout",
     "output_type": "stream",
     "text": [
      "Sidney Crosby had a shooting percentage  0.15\n"
     ]
    }
   ],
   "source": [
    "def calculate_shooting_percentage(player_name, goals, shots_on_goal):\n",
    "        shooting_percentage = goals / shots_on_goal\n",
    "        shooting_percentage_rounded = round(shooting_percentage, 2)\n",
    "        print(player_name, 'had a shooting percentage ', shooting_percentage_rounded)\n",
    "        \n",
    "calculate_shooting_percentage('Sidney Crosby', goals=31, shots_on_goal=208)"
   ]
  },
  {
   "cell_type": "markdown",
   "id": "ceec54d6",
   "metadata": {},
   "source": [
    "This is our simple Python function that calculates the catch rate of a player. The function takes in three arguments:\n",
    "<ul>\n",
    "<li>`player_name`, which is a string representing the name of the player;</li> \n",
    "<li>`goals`, which is an integer representing the number of goals the player had; and </li>\n",
    "<li>`shots_on_goal`, which is an integer representing the number of times the player took a shot on goal.</li>\n",
    "</ul>\n",
    "The function first calculates the shoting percentage by dividing the number of goals by the number of shots on goal. It then rounds the shooting percentage to two decimal places and prints out a string that includes the player's name and their shooting percentage.\n",
    "\n",
    "In the example provided, the function is called with the player name \"Sidney Crosby\", 31 goals, and 208 shots on goal. This means that Sydney Crosby had a shooting percentage of 0.14903846153846154 , which gets rounded to 0.15 and gets printed out as part of the string.\n",
    "\n",
    "<h1>Positional and Keyword Arguments</h1>\n",
    "\n",
    "Here you can also see that we explicitly defined arguments when passing them in. \"Sidney Crosby\" was a positional argument and goals and shots on goal were keyword arguments.\n",
    "\n",
    "In programming, a keyword argument is a type of argument that is passed to a function or method in which the name of the argument is specified in the function call. This allows for greater clarity and readability of the code, as the name of the argument clearly indicates its purpose.\n",
    "\n",
    "As an example, consider a function that calculates the save percentage for a given NHL player. This function might have a keyword argument called \"player_name\" that specifies the name of the player for whom the save percentage should be calculated. The function could then be called like this:"
   ]
  },
  {
   "cell_type": "code",
   "execution_count": null,
   "id": "665e148b",
   "metadata": {},
   "outputs": [],
   "source": [
    "calculate_save_percentage(player_name=\"Linus Ullmark\")"
   ]
  },
  {
   "cell_type": "markdown",
   "id": "e9784ffe",
   "metadata": {},
   "source": [
    "In this example, the \"player_name\" keyword argument is used to specify the player for whom the save percentage should be calculated. The use of a keyword argument makes the code more readable and easier to understand, as it is clear that the \"player_name\" argument is used to specify the player in question. Our example above is no different.\n",
    "\n",
    "Let's circle back to introducing this new idea of user-defined functions in to our code."
   ]
  },
  {
   "cell_type": "code",
   "execution_count": 8,
   "id": "fa48126d",
   "metadata": {},
   "outputs": [
    {
     "name": "stdout",
     "output_type": "stream",
     "text": [
      "Connor McDavid had a shooting percentage  0.14\n",
      "Alex Ovechkin had a shooting percentage  0.13\n",
      "Sidney Crosby had a shooting percentage  0.15\n"
     ]
    }
   ],
   "source": [
    "players = [\n",
    "    {\n",
    "    \"name\": \"Connor McDavid\",\n",
    "    \"shots_on_goal\": 314,\n",
    "    \"goals\": 44\n",
    "    },\n",
    "    {\n",
    "    \"name\": \"Alex Ovechkin\",\n",
    "    \"shots_on_goal\": 182,\n",
    "    \"goals\": 24\n",
    "    },\n",
    "    {\n",
    "    \"name\": \"Sidney Crosby\",\n",
    "    \"shots_on_goal\": 208, \n",
    "    \"goals\": 31\n",
    "    }\n",
    "]\n",
    "\n",
    "for player in players:\n",
    "    calculate_shooting_percentage(player['name'], goals=player['goals'], shots_on_goal=player['shots_on_goal'])"
   ]
  },
  {
   "cell_type": "markdown",
   "id": "563fd48f",
   "metadata": {},
   "source": [
    "As you can see here, we bring in our list of `dictionary` objects, each containing information about 3 NHL players - Connor McDavid, Alex Ovechkin, and Sidney Crosby.\n",
    "\n",
    "We then iterate through each of our player objects and pass in their data to the function, which provides the desired output! Compare this to our previous post and you could probably notice that the code is a lot cleaner now.\n",
    "\n",
    "<h1>Concluding Thoughts</h1>\n",
    "\n",
    "We covered a decent amount of theory in this post. To recap, we: \n",
    "<ul>\n",
    "<li>Expanded our knowledge of functions</li>\n",
    "<li>Acknowledged that some of these functions are built-in to the namespace</li>\n",
    "<li>Some of them can be imported via external libraries (which we will cover in the future), and</li> \n",
    "<li>Some of these can be written by us as user-defined functions</li>\n",
    "</ul>\n",
    "\n",
    "We also covered in-depth what functions are and some other details like positional and keyword arguments.\n",
    "\n",
    "Using all of this, we took our code from last time and made it slightly more <a href=\"https://stackoverflow.com/questions/25011078/what-does-pythonic-mean\" target=\"_blank\">Pythonic</a> (emphasis on slightly because at the moment, our code isn't all that more Pythonic yet, but we'll touch on this topic more in future posts. \"Pythonic\" code is essentially Python code that is written with good style/convention).\n",
    "\n",
    "No groundbreaking analysis yet, but we're one step closer to do some real analysis in Python! \n",
    "\n",
    "Thanks for reading - You guys are all awesome and happy coding!"
   ]
  }
 ],
 "metadata": {
  "kernelspec": {
   "display_name": "Python 3 (ipykernel)",
   "language": "python",
   "name": "python3"
  },
  "language_info": {
   "codemirror_mode": {
    "name": "ipython",
    "version": 3
   },
   "file_extension": ".py",
   "mimetype": "text/x-python",
   "name": "python",
   "nbconvert_exporter": "python",
   "pygments_lexer": "ipython3",
   "version": "3.8.2"
  },
  "vscode": {
   "interpreter": {
    "hash": "506a319ebebdb00029c604657cb2bbab64f5a438866e497f04618e385c1d8ae6"
   }
  }
 },
 "nbformat": 4,
 "nbformat_minor": 5
}
